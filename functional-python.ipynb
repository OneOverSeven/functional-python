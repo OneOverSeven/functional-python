{
 "cells": [
  {
   "cell_type": "markdown",
   "metadata": {},
   "source": [
    "# Functional Programming in Python "
   ]
  },
  {
   "cell_type": "code",
   "execution_count": 1,
   "metadata": {
    "collapsed": false
   },
   "outputs": [
    {
     "name": "stdout",
     "output_type": "stream",
     "text": [
      "Collecting toolz\n",
      "  Downloading toolz-0.7.4.tar.gz\n",
      "Building wheels for collected packages: toolz\n",
      "  Running setup.py bdist_wheel for toolz ... \u001b[?25l-\b \b\\\b \bdone\n",
      "\u001b[?25h  Stored in directory: /home/jovyan/.cache/pip/wheels/3e/e9/72/b9e24c6b4c0347670b9a20afeba6b2534655f5dc714b30cb4e\n",
      "Successfully built toolz\n",
      "Installing collected packages: toolz\n",
      "Successfully installed toolz-0.7.4\n",
      "\u001b[33mYou are using pip version 8.1.1, however version 8.1.2 is available.\n",
      "You should consider upgrading via the 'pip install --upgrade pip' command.\u001b[0m\n"
     ]
    }
   ],
   "source": [
    "!pip install toolz"
   ]
  },
  {
   "cell_type": "code",
   "execution_count": 2,
   "metadata": {
    "collapsed": false
   },
   "outputs": [],
   "source": [
    "import toolz\n",
    "import operator\n",
    "from operator import methodcaller, itemgetter, attrgetter"
   ]
  },
  {
   "cell_type": "markdown",
   "metadata": {},
   "source": [
    "## Purity "
   ]
  },
  {
   "cell_type": "code",
   "execution_count": 3,
   "metadata": {
    "collapsed": false
   },
   "outputs": [
    {
     "data": {
      "text/plain": [
       "2"
      ]
     },
     "execution_count": 3,
     "metadata": {},
     "output_type": "execute_result"
    }
   ],
   "source": [
    "# pure\n",
    "def add(a, b):\n",
    "    return a + b\n",
    "\n",
    "# impure\n",
    "additions_made = 0\n",
    "def add(a, b):\n",
    "    global additions_made\n",
    "    additions_made += 1\n",
    "    return a + b\n",
    "\n",
    "add(3, 5)\n",
    "add(6, 8)\n",
    "additions_made"
   ]
  },
  {
   "cell_type": "markdown",
   "metadata": {},
   "source": [
    "## First class functions"
   ]
  },
  {
   "cell_type": "code",
   "execution_count": 4,
   "metadata": {
    "collapsed": false
   },
   "outputs": [
    {
     "data": {
      "text/plain": [
       "2"
      ]
     },
     "execution_count": 4,
     "metadata": {},
     "output_type": "execute_result"
    }
   ],
   "source": [
    "def add(a, b):\n",
    "    return a + b\n",
    "\n",
    "add_function = add\n",
    "    \n",
    "add = lambda a,b: a + b\n",
    "\n",
    "add(1,1)"
   ]
  },
  {
   "cell_type": "markdown",
   "metadata": {},
   "source": [
    "## Higher order functions"
   ]
  },
  {
   "cell_type": "code",
   "execution_count": 5,
   "metadata": {
    "collapsed": false
   },
   "outputs": [
    {
     "name": "stdout",
     "output_type": "stream",
     "text": [
      "took 1.0027246475219727\n"
     ]
    }
   ],
   "source": [
    "from time import time, sleep\n",
    "\n",
    "def timer(fn):\n",
    "    def timed(*args, **kwargs):\n",
    "        t = time()\n",
    "        fn(*args, **kwargs)\n",
    "        print(\"took {time}\".format(time=time()-t))\n",
    "\n",
    "    return timed\n",
    "\n",
    "def compute():\n",
    "    sleep(1)\n",
    "\n",
    "timed_compute = timer(compute)\n",
    "timed_compute()"
   ]
  },
  {
   "cell_type": "markdown",
   "metadata": {},
   "source": [
    "## Decorators"
   ]
  },
  {
   "cell_type": "code",
   "execution_count": 6,
   "metadata": {
    "collapsed": false
   },
   "outputs": [
    {
     "name": "stdout",
     "output_type": "stream",
     "text": [
      "took 1.0028371810913086\n"
     ]
    }
   ],
   "source": [
    "@timer\n",
    "def compute():\n",
    "    sleep(1)\n",
    "    \n",
    "compute()"
   ]
  },
  {
   "cell_type": "markdown",
   "metadata": {},
   "source": [
    "## Partial function application "
   ]
  },
  {
   "cell_type": "code",
   "execution_count": 7,
   "metadata": {
    "collapsed": false
   },
   "outputs": [
    {
     "data": {
      "text/plain": [
       "2"
      ]
     },
     "execution_count": 7,
     "metadata": {},
     "output_type": "execute_result"
    }
   ],
   "source": [
    "def add1(num):\n",
    "    return add(1, num)\n",
    "add1(1)"
   ]
  },
  {
   "cell_type": "code",
   "execution_count": 8,
   "metadata": {
    "collapsed": false
   },
   "outputs": [
    {
     "data": {
      "text/plain": [
       "2"
      ]
     },
     "execution_count": 8,
     "metadata": {},
     "output_type": "execute_result"
    }
   ],
   "source": [
    "from functools import partial\n",
    "add1 = partial(add, 1)\n",
    "add1(1)"
   ]
  },
  {
   "cell_type": "markdown",
   "metadata": {},
   "source": [
    "## Currying"
   ]
  },
  {
   "cell_type": "code",
   "execution_count": 9,
   "metadata": {
    "collapsed": false
   },
   "outputs": [
    {
     "data": {
      "text/plain": [
       "2"
      ]
     },
     "execution_count": 9,
     "metadata": {},
     "output_type": "execute_result"
    }
   ],
   "source": [
    "def curried_add(a):\n",
    "    def inner(b):\n",
    "        return add(a,b)\n",
    "    return inner\n",
    "\n",
    "curried_add(1)\n",
    "curried_add(1)(1)"
   ]
  },
  {
   "cell_type": "markdown",
   "metadata": {},
   "source": [
    "## Function composition "
   ]
  },
  {
   "cell_type": "code",
   "execution_count": 10,
   "metadata": {
    "collapsed": false
   },
   "outputs": [
    {
     "data": {
      "text/plain": [
       "[0, 4, 16, 36, 64]"
      ]
     },
     "execution_count": 10,
     "metadata": {},
     "output_type": "execute_result"
    }
   ],
   "source": [
    "from toolz.curried import compose, map, filter, pipe, curry\n",
    "\n",
    "compute = compose(map(lambda x: x**2), filter(lambda x: x%2==0))\n",
    "\n",
    "list(compute(range(10)))"
   ]
  },
  {
   "cell_type": "markdown",
   "metadata": {},
   "source": [
    "## Example: Simplified CSV parsing"
   ]
  },
  {
   "cell_type": "code",
   "execution_count": 11,
   "metadata": {
    "collapsed": false
   },
   "outputs": [],
   "source": [
    "csv = \"\"\"firstName;lastName\n",
    "Jim;Drake\n",
    "Ben;James\n",
    "Tim;Banes\"\"\""
   ]
  },
  {
   "cell_type": "code",
   "execution_count": 12,
   "metadata": {
    "collapsed": false
   },
   "outputs": [
    {
     "data": {
      "text/plain": [
       "[{'firstName': 'Jim', 'lastName': 'Drake'},\n",
       " {'firstName': 'Ben', 'lastName': 'James'},\n",
       " {'firstName': 'Tim', 'lastName': 'Banes'}]"
      ]
     },
     "execution_count": 12,
     "metadata": {},
     "output_type": "execute_result"
    }
   ],
   "source": [
    "lines = csv.split(\"\\n\")\n",
    "matrix = [line.split(';') for line in lines]\n",
    "header = matrix.pop(0)\n",
    "records = []\n",
    "for row in matrix:\n",
    "    record = {}\n",
    "    for index, key in enumerate(header):\n",
    "        record[key] = row[index]\n",
    "    records.append(record)\n",
    "records"
   ]
  },
  {
   "cell_type": "code",
   "execution_count": 13,
   "metadata": {
    "collapsed": false
   },
   "outputs": [
    {
     "data": {
      "text/plain": [
       "[{'firstName': 'Jim', 'lastName': 'Drake'},\n",
       " {'firstName': 'Ben', 'lastName': 'James'},\n",
       " {'firstName': 'Tim', 'lastName': 'Banes'}]"
      ]
     },
     "execution_count": 13,
     "metadata": {},
     "output_type": "execute_result"
    }
   ],
   "source": [
    "from toolz.curried import compose, map\n",
    "from functools import partial\n",
    "from operator import methodcaller\n",
    "\n",
    "split = partial(methodcaller, 'split')\n",
    "split_lines = split(\"\\n\")\n",
    "split_fields = split(';')\n",
    "dict_from_keys_vals = compose(dict, zip)\n",
    "csv_to_matrix = compose(map(split_fields), split_lines)\n",
    "\n",
    "matrix = csv_to_matrix(csv)\n",
    "keys = next(matrix)\n",
    "records = map(partial(dict_from_keys_vals, keys), matrix)\n",
    "list(records)"
   ]
  },
  {
   "cell_type": "code",
   "execution_count": 14,
   "metadata": {
    "collapsed": false
   },
   "outputs": [
    {
     "data": {
      "text/plain": [
       "['foo', 'bar']"
      ]
     },
     "execution_count": 14,
     "metadata": {},
     "output_type": "execute_result"
    }
   ],
   "source": [
    "from operator import methodcaller\n",
    "methodcaller('split', ';')('foo;bar')"
   ]
  },
  {
   "cell_type": "markdown",
   "metadata": {},
   "source": [
    "## fn.py"
   ]
  },
  {
   "cell_type": "code",
   "execution_count": 15,
   "metadata": {
    "collapsed": false
   },
   "outputs": [
    {
     "name": "stdout",
     "output_type": "stream",
     "text": [
      "Collecting fn\n",
      "  Downloading fn-0.4.3.tar.gz\n",
      "Building wheels for collected packages: fn\n",
      "  Running setup.py bdist_wheel for fn ... \u001b[?25l-\b \b\\\b \bdone\n",
      "\u001b[?25h  Stored in directory: /home/jovyan/.cache/pip/wheels/ec/0b/f1/2e09d08831712bc4d4dd920ea1c966ebbca788264b0dda4dde\n",
      "Successfully built fn\n",
      "Installing collected packages: fn\n",
      "Successfully installed fn-0.4.3\n",
      "\u001b[33mYou are using pip version 8.1.1, however version 8.1.2 is available.\n",
      "You should consider upgrading via the 'pip install --upgrade pip' command.\u001b[0m\n"
     ]
    }
   ],
   "source": [
    "!pip install fn"
   ]
  },
  {
   "cell_type": "code",
   "execution_count": 16,
   "metadata": {
    "collapsed": false
   },
   "outputs": [
    {
     "data": {
      "text/plain": [
       "[0, 1, 4, 9, 16]"
      ]
     },
     "execution_count": 16,
     "metadata": {},
     "output_type": "execute_result"
    }
   ],
   "source": [
    "from fn import _\n",
    "\n",
    "list(map(_**2, range(5)))"
   ]
  },
  {
   "cell_type": "markdown",
   "metadata": {},
   "source": [
    "# PySpark"
   ]
  },
  {
   "cell_type": "code",
   "execution_count": 17,
   "metadata": {
    "collapsed": true
   },
   "outputs": [],
   "source": [
    "import pyspark\n",
    "sc = pyspark.SparkContext('local[*]')"
   ]
  },
  {
   "cell_type": "code",
   "execution_count": 18,
   "metadata": {
    "collapsed": false,
    "scrolled": false
   },
   "outputs": [
    {
     "name": "stdout",
     "output_type": "stream",
     "text": [
      "Pi is roughly 3.138912\n"
     ]
    }
   ],
   "source": [
    "import random\n",
    "NUM_SAMPLES = 1000000\n",
    "\n",
    "def sample(p):\n",
    "    x, y = random.random(), random.random()\n",
    "    return 1 if x*x + y*y < 1 else 0\n",
    "\n",
    "count = sc.parallelize(range(0, NUM_SAMPLES)).map(sample) \\\n",
    "             .reduce(lambda a, b: a + b)\n",
    "print(\"Pi is roughly %f\" % (4.0 * count / NUM_SAMPLES))"
   ]
  },
  {
   "cell_type": "markdown",
   "metadata": {},
   "source": [
    "## K-Means\n",
    "mostly stolen and adapted from https://github.com/joelgrus/stupid-itertools-tricks-pydata/blob/master/src/k_means.py"
   ]
  },
  {
   "cell_type": "code",
   "execution_count": 38,
   "metadata": {
    "collapsed": false,
    "scrolled": true
   },
   "outputs": [],
   "source": [
    "import random\n",
    "from toolz.curried import iterate, accumulate, curry, groupby, last, compose"
   ]
  },
  {
   "cell_type": "code",
   "execution_count": 39,
   "metadata": {
    "collapsed": false
   },
   "outputs": [],
   "source": [
    "def kmeans(k, points):\n",
    "    return until_convergence(iterate(find_new_means(points), random.sample(points, k)))"
   ]
  },
  {
   "cell_type": "code",
   "execution_count": 40,
   "metadata": {
    "collapsed": false
   },
   "outputs": [],
   "source": [
    "@curry\n",
    "def find_new_means(points, old_means):\n",
    "    k = len(old_means)\n",
    "    clusters = groupby(compose(str, closest_mean(old_means)), points).values()\n",
    "    return list(map(cluster_mean, clusters))"
   ]
  },
  {
   "cell_type": "code",
   "execution_count": 41,
   "metadata": {
    "collapsed": true
   },
   "outputs": [],
   "source": [
    "@curry\n",
    "def closest_mean(means, point):\n",
    "    return min(means, key=squared_distance(point))\n",
    "\n",
    "@curry\n",
    "def squared_distance(p, q):\n",
    "    return sum((p_i - q_i)**2 for p_i, q_i in zip(p, q))"
   ]
  },
  {
   "cell_type": "code",
   "execution_count": 42,
   "metadata": {
    "collapsed": true
   },
   "outputs": [],
   "source": [
    "def cluster_mean(points):\n",
    "    num_points = len(points)\n",
    "    dim = len(points[0]) if points else 0\n",
    "    sum_points = [sum(point[j] for point in points)\n",
    "                  for j in range(dim)]\n",
    "    return [s / num_points for s in sum_points]"
   ]
  },
  {
   "cell_type": "code",
   "execution_count": 43,
   "metadata": {
    "collapsed": true
   },
   "outputs": [],
   "source": [
    "def no_repeat(prev, curr):\n",
    "    if prev == curr: raise StopIteration\n",
    "    else: return curr\n",
    "\n",
    "def until_convergence(it):\n",
    "    return last(accumulate(no_repeat, it))"
   ]
  },
  {
   "cell_type": "code",
   "execution_count": 44,
   "metadata": {
    "collapsed": false
   },
   "outputs": [],
   "source": [
    "data = [(random.random(), random.random()) for _ in range(500)]"
   ]
  },
  {
   "cell_type": "code",
   "execution_count": 45,
   "metadata": {
    "collapsed": false
   },
   "outputs": [
    {
     "data": {
      "text/plain": [
       "[[0.21952859841448114, 0.25481402534954994],\n",
       " [0.7652565865929, 0.7483653171083438],\n",
       " [0.264055940070528, 0.7509097028831765],\n",
       " [0.7225812094669304, 0.24038806923701367]]"
      ]
     },
     "execution_count": 45,
     "metadata": {},
     "output_type": "execute_result"
    }
   ],
   "source": [
    "k = 4\n",
    "means = list(kmeans(k, data))\n",
    "means"
   ]
  },
  {
   "cell_type": "code",
   "execution_count": 46,
   "metadata": {
    "collapsed": false
   },
   "outputs": [],
   "source": [
    "import matplotlib.pyplot as plt\n",
    "%matplotlib inline"
   ]
  },
  {
   "cell_type": "code",
   "execution_count": 47,
   "metadata": {
    "collapsed": false
   },
   "outputs": [
    {
     "data": {
      "image/png": "[encoded data removed]",
      "text/plain": [
       "<matplotlib.figure.Figure at 0x7fed7c93e4e0>"
      ]
     },
     "metadata": {},
     "output_type": "display_data"
    }
   ],
   "source": [
    "colors = iter(['r', 'g', 'b', 'c', 'm'])\n",
    "clusters = groupby(compose(str, closest_mean(means)), data)\n",
    "for mean in means:\n",
    "    x, y = zip(*clusters[str(mean)])\n",
    "    color = next(colors)\n",
    "    plt.scatter(x, y, color=color)\n",
    "    plt.plot(*mean, color=color, marker='*', markersize=20)"
   ]
  }
 ],
 "metadata": {
  "kernelspec": {
   "display_name": "Python 3",
   "language": "python",
   "name": "python3"
  },
  "language_info": {
   "codemirror_mode": {
    "name": "ipython",
    "version": 3
   },
   "file_extension": ".py",
   "mimetype": "text/x-python",
   "name": "python",
   "nbconvert_exporter": "python",
   "pygments_lexer": "ipython3",
   "version": "3.5.1"
  },
  "widgets": {
   "state": {},
   "version": "1.1.1"
  }
 },
 "nbformat": 4,
 "nbformat_minor": 0
}
